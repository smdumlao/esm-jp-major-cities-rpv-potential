{
 "cells": [
  {
   "cell_type": "code",
   "execution_count": 1,
   "metadata": {},
   "outputs": [],
   "source": [
    "import os\n",
    "import sys\n",
    "import json\n",
    "\n",
    "import pandas as pd\n",
    "import matplotlib.pyplot as plt\n",
    "\n",
    "\n",
    "import pypsa\n",
    "\n",
    "data_dir = os.path.abspath(\"data\")\n",
    "from IPython.display import clear_output"
   ]
  },
  {
   "cell_type": "code",
   "execution_count": 2,
   "metadata": {},
   "outputs": [],
   "source": [
    "from utils.japan_area_names import cities_jp_to_en\n",
    "from utils.jp_map_processor import cities_list_en as cities_list"
   ]
  },
  {
   "cell_type": "code",
   "execution_count": 3,
   "metadata": {},
   "outputs": [
    {
     "name": "stdout",
     "output_type": "stream",
     "text": [
      "0.26.2\n"
     ]
    }
   ],
   "source": [
    "print(pypsa.__version__)"
   ]
  },
  {
   "cell_type": "code",
   "execution_count": 4,
   "metadata": {},
   "outputs": [],
   "source": [
    "# ============================================================================ #\n",
    "# load config\n",
    "# ============================================================================ #\n",
    "\n",
    "if os.path.exists(\"config.json\"):\n",
    "\twith open(\"config.json\") as config_file:\n",
    "\t\tconfig = json.load(config_file)\n",
    "else:\n",
    "\tconfig = dict()\n",
    "\n",
    "\n",
    "# set the RUN_ID. This is used to save the results.\n",
    "RUN_ID = config.get(\"RUN_ID\")\n",
    "\n",
    "# set the base folder of the PyPSA Model\n",
    "pypsa_base_folder = config.get(\"pypsa_base_folder\")"
   ]
  },
  {
   "cell_type": "code",
   "execution_count": 5,
   "metadata": {},
   "outputs": [],
   "source": [
    "# ============================================================================ #\n",
    "# Data Preparation\n",
    "# ============================================================================ #\n",
    "\n",
    "pypsa_network_folder = os.path.join(data_dir, pypsa_base_folder)\n",
    "if not os.path.exists(pypsa_network_folder):\n",
    "    print('Network Folder does not exist.')\n",
    "\n",
    "# load the power gen\n",
    "solar_p_max_pu_df = pd.read_csv('data/ref/pv_gen_kwh_per_kw_hourly_main_cities_fy2022.csv', index_col=0)\n",
    "solar_p_max_pu_df.index = pd.to_datetime(solar_p_max_pu_df.index)\n",
    "\n",
    "# align the snapshots\n",
    "solar_p_max_pu_df.reset_index()['index'].to_frame('snapshot').to_csv(f'{pypsa_network_folder}/snapshots.csv')\n",
    "solar_p_max_pu_df = solar_p_max_pu_df.rename(columns=cities_jp_to_en)\n",
    "\n",
    "# load the municipal electricity demand\n",
    "muni_elec_dmd = pd.read_csv(\"data/gen/major_city_resi_elec_dmd.csv\", index_col=0)\n",
    "muni_elec_dmd.index = pd.to_datetime(muni_elec_dmd.index)\n",
    "muni_elec_dmd = muni_elec_dmd.rename(columns=cities_jp_to_en)\n",
    "\n",
    "# load RPV Potential\n",
    "rpv_capacity_potential = pd.read_csv(\"data/gen/rpv_capacity_potential.csv\", index_col=0)\n",
    "\n",
    "# load Battery Potential\n",
    "bat_capacity_potential = pd.read_csv(\"data/gen/bat_capacity_potential.csv\", index_col=0)"
   ]
  },
  {
   "cell_type": "code",
   "execution_count": 6,
   "metadata": {},
   "outputs": [
    {
     "name": "stdout",
     "output_type": "stream",
     "text": [
      "/home/matthew/GitHub/esm-jp-major-cities-rpv-potential/data/pypsa-results/published-ver/tokyo_1_3\n"
     ]
    },
    {
     "name": "stderr",
     "output_type": "stream",
     "text": [
      "INFO:pypsa.io:Exported network tokyo_1_3 has links, buses, storage_units, generators, loads\n"
     ]
    }
   ],
   "source": [
    "# ============================================================================ #\n",
    "# Scenario Analysis: Model Simulation Execution\n",
    "# ============================================================================ #\n",
    "\n",
    "self_suff_rate_df = []\n",
    "curtailment_rate_df = []\n",
    "for muni_name in cities_list:\n",
    "\tmuni_total_dmd = muni_elec_dmd[muni_name].sum()\n",
    "\tsolar_total_output = solar_p_max_pu_df[muni_name].sum()\n",
    "\n",
    "\t# calculate pv capacity levels: 1 - BAU; 2 - new detached; 3 = old and new\n",
    "\tpv_cap_levels = rpv_capacity_potential.loc[muni_name].to_list()\n",
    "\n",
    "\t# calculate battery capacity levels: same as PV levels\n",
    "\tbat_cap_levels = bat_capacity_potential.loc[muni_name].to_list()\n",
    "\n",
    "\tmuni_self_suff_rate = []\n",
    "\tmuni_curtailment_rate = []\n",
    "\tfor has_battery in [False, True]:\n",
    "\t\tfor pv_level in [1, 2, 3]:\n",
    "\t\t\t# PyPSA\n",
    "\t\t\t# initialize pypsa\n",
    "\t\t\tn = pypsa.Network()\n",
    "\t\t\tn.import_from_csv_folder(pypsa_network_folder)\n",
    "\n",
    "\t\t\t# set the load\n",
    "\t\t\tn.loads_t.p_set['residential'] = muni_elec_dmd[muni_name]*1_000\n",
    "\n",
    "\t\t\t# set max solar\n",
    "\t\t\tn.generators_t.p_max_pu['gen_solar'] = solar_p_max_pu_df[muni_name]\n",
    "\n",
    "\t\t\t# set solar capacity\n",
    "\t\t\tn.generators.loc['gen_solar', 'p_nom'] = sum(pv_cap_levels[:pv_level])\n",
    "\n",
    "\t\t\t# set battery capacity \n",
    "\t\t\tsu_name = 'su_battery'\n",
    "\t\t\tmax_hours = n.storage_units.loc[su_name, 'max_hours']\n",
    "\n",
    "\t\t\tif has_battery:\n",
    "\t\t\t\tbat_cap_actual = sum(bat_cap_levels[:pv_level])\n",
    "\t\t\telse:\n",
    "\t\t\t\tbat_cap_actual = 0\n",
    "\n",
    "\t\t\tn.storage_units.loc[su_name, 'p_nom'] = bat_cap_actual/max_hours\n",
    "\n",
    "\t\t\tsolver_options = {\"NumericFocus\": 0, \"OutputFlag\": 1}\n",
    "\t\t\tstatus, termination_condition = n.optimize(\n",
    "\t\t\t\tsolver_name=\"gurobi\",\n",
    "\t\t\t\tsolver_options=solver_options,\n",
    "\t\t\t\t# extra_functionality=extra_functionality,\n",
    "\t\t\t)\n",
    "\n",
    "\t\t\tclear_output(wait=True)\n",
    "\n",
    "\t\t\tif status == \"ok\":\n",
    "\t\t\t\tfolder_name = f\"{muni_name.lower()}_{int(has_battery)}_{pv_level}\"\n",
    "\t\t\t\tsave_network_folder = os.path.join(data_dir, 'pypsa-results', RUN_ID, folder_name)\n",
    "\t\t\t\tif not os.path.exists(save_network_folder):\n",
    "\t\t\t\t\tos.makedirs(save_network_folder)\n",
    "\t\t\t\t\tprint(save_network_folder)\n",
    "\n",
    "\t\t\t\tn.export_to_csv_folder(save_network_folder)\n",
    "\n",
    "\n"
   ]
  }
 ],
 "metadata": {
  "kernelspec": {
   "display_name": ".venv",
   "language": "python",
   "name": "python3"
  },
  "language_info": {
   "codemirror_mode": {
    "name": "ipython",
    "version": 3
   },
   "file_extension": ".py",
   "mimetype": "text/x-python",
   "name": "python",
   "nbconvert_exporter": "python",
   "pygments_lexer": "ipython3",
   "version": "3.10.12"
  }
 },
 "nbformat": 4,
 "nbformat_minor": 2
}
